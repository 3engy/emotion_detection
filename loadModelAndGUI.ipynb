{
 "cells": [
  {
   "cell_type": "code",
   "execution_count": 3,
   "id": "89d7c05e",
   "metadata": {},
   "outputs": [],
   "source": [
    "def pre(m):\n",
    "    if m==1:\n",
    "        return(\"joy\")\n",
    "    elif m==2:\n",
    "        return(\"sadness\")\n",
    "    elif m==3:\n",
    "        return(\"anger\")\n",
    "    elif m==4:\n",
    "        return(\"fear\")\n",
    "    elif m==5:\n",
    "        return(\"love\")\n",
    "    elif m==6:\n",
    "        return(\"surprise\")\n",
    "\n",
    "import pickle\n",
    "with open('v.pickle', 'rb') as handle:\n",
    "    emotion_loaded = pickle.load(handle)\n",
    "with open('emotion_detaction.sav', 'rb') as handle:\n",
    "    emotion_detect_model_loaded = pickle.load(handle)"
   ]
  },
  {
   "cell_type": "code",
   "execution_count": 4,
   "id": "67f92e91",
   "metadata": {},
   "outputs": [],
   "source": [
    "import tkinter as tk\n",
    "\n",
    "def display_text():\n",
    "    text = entry.get()\n",
    "    X = emotion_loaded.transform([text])\n",
    "    pred = emotion_detect_model_loaded.predict(X)\n",
    "    label.config(text=pre(pred))\n",
    "\n",
    "root = tk.Tk(className='Emotion Detection')\n",
    "root.geometry(\"500x200\")\n",
    "root['background']='#7fe2da'\n",
    "\n",
    "entry = tk.Entry(root)\n",
    "entry.pack(pady=60)\n",
    "\n",
    "button = tk.Button(root, text=\"Predict\", command=display_text,font=('Arial',16))\n",
    "#button.grid(row=0, column=0, padx=5, pady=5)\n",
    "button.pack()\n",
    "\n",
    "label = tk.Label(root)\n",
    "label.place(relx = 0.5,\n",
    "                   rely = 0.5,\n",
    "                   anchor = 'center')\n",
    "# label.pack()\n",
    "\n",
    "root.mainloop()"
   ]
  },
  {
   "cell_type": "code",
   "execution_count": null,
   "id": "d6bbab32",
   "metadata": {},
   "outputs": [],
   "source": []
  }
 ],
 "metadata": {
  "kernelspec": {
   "display_name": "Python 3",
   "language": "python",
   "name": "python3"
  },
  "language_info": {
   "codemirror_mode": {
    "name": "ipython",
    "version": 3
   },
   "file_extension": ".py",
   "mimetype": "text/x-python",
   "name": "python",
   "nbconvert_exporter": "python",
   "pygments_lexer": "ipython3",
   "version": "3.8.8"
  }
 },
 "nbformat": 4,
 "nbformat_minor": 5
}
